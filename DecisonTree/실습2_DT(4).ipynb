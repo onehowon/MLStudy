{
 "cells": [
  {
   "cell_type": "markdown",
   "metadata": {
    "id": "5PBDbVINtxZ5"
   },
   "source": [
    "# install graphviz"
   ]
  },
  {
   "cell_type": "code",
   "execution_count": null,
   "metadata": {
    "id": "rptOyqoctxZ-"
   },
   "outputs": [],
   "source": [
    "# conda install graphviz\n",
    "# conda install -c conda-forge python-graphviz"
   ]
  },
  {
   "cell_type": "markdown",
   "metadata": {
    "id": "0aV36zGvJDhl"
   },
   "source": [
    "# import library"
   ]
  },
  {
   "cell_type": "code",
   "execution_count": null,
   "metadata": {
    "executionInfo": {
     "elapsed": 833,
     "status": "ok",
     "timestamp": 1708305939028,
     "user": {
      "displayName": "이태관",
      "userId": "08279273165912215614"
     },
     "user_tz": -540
    },
    "id": "WHZOEFnHB470"
   },
   "outputs": [],
   "source": [
    "import numpy as np\n",
    "import os\n",
    "import seaborn as sns\n",
    "import pandas as pd\n",
    "np.random.seed(42)"
   ]
  },
  {
   "cell_type": "code",
   "execution_count": null,
   "metadata": {
    "executionInfo": {
     "elapsed": 411,
     "status": "ok",
     "timestamp": 1708305974199,
     "user": {
      "displayName": "이태관",
      "userId": "08279273165912215614"
     },
     "user_tz": -540
    },
    "id": "9G3qcSs_CCJ8"
   },
   "outputs": [],
   "source": [
    "%matplotlib inline\n",
    "import matplotlib.pyplot as plt"
   ]
  },
  {
   "cell_type": "markdown",
   "metadata": {
    "id": "DASnHjLsO7mu"
   },
   "source": [
    "# drop NaN"
   ]
  },
  {
   "cell_type": "code",
   "execution_count": null,
   "metadata": {
    "executionInfo": {
     "elapsed": 353,
     "status": "ok",
     "timestamp": 1708305974883,
     "user": {
      "displayName": "이태관",
      "userId": "08279273165912215614"
     },
     "user_tz": -540
    },
    "id": "80aeTClQO_bb"
   },
   "outputs": [],
   "source": [
    "titanic = sns.load_dataset('titanic')"
   ]
  },
  {
   "cell_type": "code",
   "execution_count": null,
   "metadata": {
    "colab": {
     "base_uri": "https://localhost:8080/",
     "height": 423
    },
    "executionInfo": {
     "elapsed": 431,
     "status": "ok",
     "timestamp": 1708305975312,
     "user": {
      "displayName": "이태관",
      "userId": "08279273165912215614"
     },
     "user_tz": -540
    },
    "id": "0LPIE6CvPRci",
    "outputId": "5364abe8-18d7-4db4-dc95-b86a21efa332"
   },
   "outputs": [],
   "source": [
    "titanic"
   ]
  },
  {
   "cell_type": "code",
   "execution_count": null,
   "metadata": {
    "colab": {
     "base_uri": "https://localhost:8080/",
     "height": 423
    },
    "executionInfo": {
     "elapsed": 7,
     "status": "ok",
     "timestamp": 1708305975312,
     "user": {
      "displayName": "이태관",
      "userId": "08279273165912215614"
     },
     "user_tz": -540
    },
    "id": "3VZt3sG0PXZe",
    "outputId": "5afbe55d-9cd3-41d3-a297-65f5139167f0"
   },
   "outputs": [],
   "source": [
    "titanic.dropna(axis = 0)"
   ]
  },
  {
   "cell_type": "code",
   "execution_count": null,
   "metadata": {
    "colab": {
     "base_uri": "https://localhost:8080/",
     "height": 423
    },
    "executionInfo": {
     "elapsed": 476,
     "status": "ok",
     "timestamp": 1708305978095,
     "user": {
      "displayName": "이태관",
      "userId": "08279273165912215614"
     },
     "user_tz": -540
    },
    "id": "pA4buzvfPB0w",
    "outputId": "789d3a5a-21f9-4e2f-9b52-3fa952f4c0aa"
   },
   "outputs": [],
   "source": [
    "titanic.dropna(axis = 1)"
   ]
  },
  {
   "cell_type": "markdown",
   "metadata": {
    "id": "UymK8_woJIGu"
   },
   "source": [
    "# Load iris data"
   ]
  },
  {
   "cell_type": "markdown",
   "metadata": {
    "id": "6GclhWsEvuZ6"
   },
   "source": [
    "https://scikit-learn.org/stable/modules/generated/sklearn.datasets.load_iris.html"
   ]
  },
  {
   "cell_type": "code",
   "execution_count": null,
   "metadata": {
    "executionInfo": {
     "elapsed": 3,
     "status": "ok",
     "timestamp": 1708305980341,
     "user": {
      "displayName": "이태관",
      "userId": "08279273165912215614"
     },
     "user_tz": -540
    },
    "id": "4D6NiDewGHlQ"
   },
   "outputs": [],
   "source": [
    "from sklearn.datasets import load_iris\n",
    "iris = load_iris(as_frame=True)\n",
    "# iris = load_iris(as_frame=False)"
   ]
  },
  {
   "cell_type": "code",
   "execution_count": null,
   "metadata": {
    "colab": {
     "base_uri": "https://localhost:8080/",
     "height": 423
    },
    "executionInfo": {
     "elapsed": 4,
     "status": "ok",
     "timestamp": 1708305980668,
     "user": {
      "displayName": "이태관",
      "userId": "08279273165912215614"
     },
     "user_tz": -540
    },
    "id": "oHoNiD3ptxaB",
    "outputId": "9c0a0b5c-3237-4351-9899-b7753add77d3",
    "scrolled": true
   },
   "outputs": [],
   "source": [
    "iris.data"
   ]
  },
  {
   "cell_type": "code",
   "execution_count": null,
   "metadata": {
    "colab": {
     "base_uri": "https://localhost:8080/"
    },
    "executionInfo": {
     "elapsed": 6,
     "status": "ok",
     "timestamp": 1708305981381,
     "user": {
      "displayName": "이태관",
      "userId": "08279273165912215614"
     },
     "user_tz": -540
    },
    "id": "eX4gwUHoGv3s",
    "outputId": "5c77b3e4-1cb3-4ed0-e96c-f8805e1ce7a3"
   },
   "outputs": [],
   "source": [
    "iris.feature_names\n",
    "# iris.data.columns"
   ]
  },
  {
   "cell_type": "code",
   "execution_count": null,
   "metadata": {
    "colab": {
     "base_uri": "https://localhost:8080/",
     "height": 423
    },
    "executionInfo": {
     "elapsed": 6,
     "status": "ok",
     "timestamp": 1708305981720,
     "user": {
      "displayName": "이태관",
      "userId": "08279273165912215614"
     },
     "user_tz": -540
    },
    "id": "LaI7hp-TtxaC",
    "outputId": "9154281a-edad-4f8f-d46d-5435db1da7a5"
   },
   "outputs": [],
   "source": [
    "df = iris.data\n",
    "df"
   ]
  },
  {
   "cell_type": "code",
   "execution_count": null,
   "metadata": {},
   "outputs": [],
   "source": [
    "iris.target\n",
    "# iris.target.unique()\n",
    "# iris.target.value_counts()\n",
    "# iris.target_names"
   ]
  },
  {
   "cell_type": "code",
   "execution_count": null,
   "metadata": {
    "colab": {
     "base_uri": "https://localhost:8080/",
     "height": 423
    },
    "executionInfo": {
     "elapsed": 4,
     "status": "ok",
     "timestamp": 1708305982096,
     "user": {
      "displayName": "이태관",
      "userId": "08279273165912215614"
     },
     "user_tz": -540
    },
    "id": "Gu4UBfxttxaD",
    "outputId": "785d5551-c874-4d34-a15b-9b713131115a",
    "scrolled": true
   },
   "outputs": [],
   "source": [
    "df['label'] = iris.target\n",
    "df"
   ]
  },
  {
   "cell_type": "code",
   "execution_count": null,
   "metadata": {
    "colab": {
     "base_uri": "https://localhost:8080/",
     "height": 300
    },
    "executionInfo": {
     "elapsed": 8,
     "status": "ok",
     "timestamp": 1708305982847,
     "user": {
      "displayName": "이태관",
      "userId": "08279273165912215614"
     },
     "user_tz": -540
    },
    "id": "MJiiF8_qtxaD",
    "outputId": "3c8a2efb-6458-44f0-a54d-fa19e0b54b66"
   },
   "outputs": [],
   "source": [
    "df.describe()"
   ]
  },
  {
   "cell_type": "markdown",
   "metadata": {
    "id": "cSsf0iNfJcJH"
   },
   "source": [
    "# Visualization data"
   ]
  },
  {
   "cell_type": "markdown",
   "metadata": {
    "id": "ygzumwFcv7yF"
   },
   "source": [
    "https://seaborn.pydata.org/generated/seaborn.scatterplot.html"
   ]
  },
  {
   "cell_type": "code",
   "execution_count": null,
   "metadata": {
    "colab": {
     "base_uri": "https://localhost:8080/",
     "height": 561
    },
    "executionInfo": {
     "elapsed": 667,
     "status": "ok",
     "timestamp": 1708305985914,
     "user": {
      "displayName": "이태관",
      "userId": "08279273165912215614"
     },
     "user_tz": -540
    },
    "id": "0APUHn_x4yFI",
    "outputId": "59984d7a-43dc-4d13-a6d2-1c819cb49b75"
   },
   "outputs": [],
   "source": [
    "%matplotlib inline\n",
    "import matplotlib.pyplot as plt\n",
    "import seaborn as sns\n",
    "\n",
    "plt.figure(figsize=(8, 6))\n",
    "sns.scatterplot(x=df['petal length (cm)'], y=df[\"petal width (cm)\"])\n",
    "# sns.scatterplot(x=df['petal length (cm)'], y=df[\"petal width (cm)\"], hue= df[\"label\"])\n",
    "# sns.scatterplot(data=df, x='petal length (cm)', y=\"petal width (cm)\", hue = \"label\")"
   ]
  },
  {
   "cell_type": "code",
   "execution_count": null,
   "metadata": {
    "colab": {
     "base_uri": "https://localhost:8080/",
     "height": 563
    },
    "executionInfo": {
     "elapsed": 676,
     "status": "ok",
     "timestamp": 1708305990052,
     "user": {
      "displayName": "이태관",
      "userId": "08279273165912215614"
     },
     "user_tz": -540
    },
    "id": "9Ytcc0aYtxaE",
    "outputId": "5065bf23-5513-4250-b7ed-ae68c6214910"
   },
   "outputs": [],
   "source": [
    "plt.figure(figsize=(8, 6))\n",
    "sns.scatterplot(data=df, x='sepal length (cm)', y=\"sepal width (cm)\", hue= \"label\")"
   ]
  },
  {
   "cell_type": "markdown",
   "metadata": {
    "id": "P68jWCDag-Qt"
   },
   "source": [
    "# Train DecisionTree Classifier"
   ]
  },
  {
   "cell_type": "markdown",
   "metadata": {
    "id": "Zo-Cae1wyR_w"
   },
   "source": [
    "Scikit-learn URL :\n",
    "https://scikit-learn.org/stable/modules/generated/sklearn.tree.DecisionTreeClassifier.html"
   ]
  },
  {
   "cell_type": "code",
   "execution_count": null,
   "metadata": {
    "executionInfo": {
     "elapsed": 629,
     "status": "ok",
     "timestamp": 1708305992989,
     "user": {
      "displayName": "이태관",
      "userId": "08279273165912215614"
     },
     "user_tz": -540
    },
    "id": "IWWlsijgCEH0"
   },
   "outputs": [],
   "source": [
    "from sklearn.datasets import load_iris\n",
    "iris = load_iris(as_frame=True)\n",
    "df = iris.data\n",
    "df['label'] = iris.target\n",
    "\n",
    "from sklearn.tree import DecisionTreeClassifier\n",
    "\n",
    "X = df[['petal length (cm)',\"petal width (cm)\"]] # petal length and width\n",
    "y = df['label']\n",
    "# X = iris.data.iloc[:, 2:] # petal length and width"
   ]
  },
  {
   "cell_type": "code",
   "execution_count": null,
   "metadata": {
    "colab": {
     "base_uri": "https://localhost:8080/",
     "height": 74
    },
    "executionInfo": {
     "elapsed": 5,
     "status": "ok",
     "timestamp": 1708305995627,
     "user": {
      "displayName": "이태관",
      "userId": "08279273165912215614"
     },
     "user_tz": -540
    },
    "id": "inRhRKCqDvt8",
    "outputId": "707e4b53-9af6-40cb-8f1c-37f8ab2d9b9c"
   },
   "outputs": [],
   "source": [
    "model = DecisionTreeClassifier(criterion='entropy', max_depth=2, random_state=42)\n",
    "model.fit(X, y)"
   ]
  },
  {
   "cell_type": "code",
   "execution_count": null,
   "metadata": {
    "colab": {
     "base_uri": "https://localhost:8080/"
    },
    "executionInfo": {
     "elapsed": 3,
     "status": "ok",
     "timestamp": 1708305996630,
     "user": {
      "displayName": "이태관",
      "userId": "08279273165912215614"
     },
     "user_tz": -540
    },
    "id": "TicJqDC7hevh",
    "outputId": "10283bf1-0d80-4a0d-98bf-bbc680a676a6"
   },
   "outputs": [],
   "source": [
    "model.predict_proba(X) #label = 0, 1, 2\n",
    "# model.predict_proba([[5, 2]])"
   ]
  },
  {
   "cell_type": "code",
   "execution_count": null,
   "metadata": {
    "colab": {
     "base_uri": "https://localhost:8080/"
    },
    "executionInfo": {
     "elapsed": 5,
     "status": "ok",
     "timestamp": 1708305999247,
     "user": {
      "displayName": "이태관",
      "userId": "08279273165912215614"
     },
     "user_tz": -540
    },
    "id": "2x3tsti7hiDn",
    "outputId": "a6fbc6dc-87de-4d1a-c7d7-c5ed0993f629"
   },
   "outputs": [],
   "source": [
    "model.predict([[5, 2]])"
   ]
  },
  {
   "cell_type": "code",
   "execution_count": null,
   "metadata": {
    "colab": {
     "base_uri": "https://localhost:8080/"
    },
    "executionInfo": {
     "elapsed": 353,
     "status": "ok",
     "timestamp": 1708306001334,
     "user": {
      "displayName": "이태관",
      "userId": "08279273165912215614"
     },
     "user_tz": -540
    },
    "id": "Wgc67oeQtxaH",
    "outputId": "4de4b33a-b40a-4a5c-8f68-1c31ebc8229f"
   },
   "outputs": [],
   "source": [
    "model.feature_importances_"
   ]
  },
  {
   "cell_type": "markdown",
   "metadata": {},
   "source": [
    "# Visualization Decision Tree"
   ]
  },
  {
   "cell_type": "code",
   "execution_count": null,
   "metadata": {
    "executionInfo": {
     "elapsed": 369,
     "status": "ok",
     "timestamp": 1708306007355,
     "user": {
      "displayName": "이태관",
      "userId": "08279273165912215614"
     },
     "user_tz": -540
    },
    "id": "4ZlM6OnLCQDU"
   },
   "outputs": [],
   "source": [
    "PROJECT_ROOT_DIR = \".\"\n",
    "CHAPTER_ID = \"decision_trees\"\n",
    "IMAGES_PATH = os.path.join(PROJECT_ROOT_DIR, \"images\", CHAPTER_ID)\n",
    "os.makedirs(IMAGES_PATH, exist_ok=True)"
   ]
  },
  {
   "cell_type": "code",
   "execution_count": null,
   "metadata": {
    "colab": {
     "base_uri": "https://localhost:8080/",
     "height": 438
    },
    "executionInfo": {
     "elapsed": 457,
     "status": "ok",
     "timestamp": 1708306008876,
     "user": {
      "displayName": "이태관",
      "userId": "08279273165912215614"
     },
     "user_tz": -540
    },
    "id": "9uqRxpDVCEp9",
    "outputId": "95525ce1-339b-4cb7-fdab-0593dc4ae1cf",
    "scrolled": false
   },
   "outputs": [],
   "source": [
    "from sklearn.tree import export_graphviz\n",
    "from graphviz import Source\n",
    "\n",
    "export_graphviz(\n",
    "        model,\n",
    "        out_file=os.path.join(IMAGES_PATH, \"iris_decision_tree.dot\"),\n",
    "        feature_names=iris.feature_names[2:],\n",
    "        class_names=iris.target_names,\n",
    "        rounded=True,\n",
    "        filled=True\n",
    "    )\n",
    "graph = Source.from_file(os.path.join(IMAGES_PATH, \"iris_decision_tree.dot\"))\n",
    "graph\n",
    "# graph.render(filename='iris_decision_tree', directory=IMAGES_PATH, format='png')"
   ]
  },
  {
   "cell_type": "markdown",
   "metadata": {
    "id": "HNZR54xEYUNE"
   },
   "source": [
    "# visualization decision boundary"
   ]
  },
  {
   "cell_type": "code",
   "execution_count": null,
   "metadata": {
    "executionInfo": {
     "elapsed": 317,
     "status": "ok",
     "timestamp": 1708306013959,
     "user": {
      "displayName": "이태관",
      "userId": "08279273165912215614"
     },
     "user_tz": -540
    },
    "id": "bIItNWh1S3Sy"
   },
   "outputs": [],
   "source": [
    "axes=[0, 7.5, 0, 3]\n",
    "x1s = np.linspace(axes[0], axes[1], 100)\n",
    "x2s = np.linspace(axes[2], axes[3], 100)"
   ]
  },
  {
   "cell_type": "code",
   "execution_count": null,
   "metadata": {
    "colab": {
     "base_uri": "https://localhost:8080/"
    },
    "executionInfo": {
     "elapsed": 327,
     "status": "ok",
     "timestamp": 1708306015678,
     "user": {
      "displayName": "이태관",
      "userId": "08279273165912215614"
     },
     "user_tz": -540
    },
    "id": "-_Z_N-Gv55LO",
    "outputId": "5a55130f-dd62-44d4-e9eb-d2aa331f4946",
    "scrolled": true
   },
   "outputs": [],
   "source": [
    "x2s"
   ]
  },
  {
   "cell_type": "code",
   "execution_count": null,
   "metadata": {
    "scrolled": true
   },
   "outputs": [],
   "source": [
    "x1, x2 = np.meshgrid(x1s, x2s)"
   ]
  },
  {
   "attachments": {
    "image.png": {
     "image/png": "[encoded data removed]"
    }
   },
   "cell_type": "markdown",
   "metadata": {},
   "source": [
    "![image.png](attachment:image.png)"
   ]
  },
  {
   "cell_type": "code",
   "execution_count": null,
   "metadata": {},
   "outputs": [],
   "source": [
    "x1.shape"
   ]
  },
  {
   "cell_type": "code",
   "execution_count": null,
   "metadata": {
    "executionInfo": {
     "elapsed": 3,
     "status": "ok",
     "timestamp": 1708306016908,
     "user": {
      "displayName": "이태관",
      "userId": "08279273165912215614"
     },
     "user_tz": -540
    },
    "id": "4A1ZwrB85ZWd",
    "scrolled": true
   },
   "outputs": [],
   "source": [
    "X_new = np.c_[x1.ravel(), x2.ravel()] \n",
    "X_new.shape"
   ]
  },
  {
   "cell_type": "code",
   "execution_count": null,
   "metadata": {
    "colab": {
     "base_uri": "https://localhost:8080/"
    },
    "executionInfo": {
     "elapsed": 8,
     "status": "ok",
     "timestamp": 1708306048761,
     "user": {
      "displayName": "이태관",
      "userId": "08279273165912215614"
     },
     "user_tz": -540
    },
    "id": "Spi3yDLU5cVD",
    "outputId": "3d6a3476-43f2-499e-8651-d812cd4a17e6"
   },
   "outputs": [],
   "source": [
    "y_pred = model.predict(X_new)"
   ]
  },
  {
   "cell_type": "code",
   "execution_count": null,
   "metadata": {
    "colab": {
     "base_uri": "https://localhost:8080/"
    },
    "executionInfo": {
     "elapsed": 7,
     "status": "ok",
     "timestamp": 1708306048762,
     "user": {
      "displayName": "이태관",
      "userId": "08279273165912215614"
     },
     "user_tz": -540
    },
    "id": "j5mWEsPC719l",
    "outputId": "bf7a0704-4269-4f7a-bf37-155d67f5986a"
   },
   "outputs": [],
   "source": [
    "y_pred.shape"
   ]
  },
  {
   "cell_type": "code",
   "execution_count": null,
   "metadata": {
    "executionInfo": {
     "elapsed": 3,
     "status": "ok",
     "timestamp": 1708306049569,
     "user": {
      "displayName": "이태관",
      "userId": "08279273165912215614"
     },
     "user_tz": -540
    },
    "id": "YJNBZatr5P-J"
   },
   "outputs": [],
   "source": [
    "y_pred = y_pred.reshape(x1.shape)"
   ]
  },
  {
   "cell_type": "code",
   "execution_count": null,
   "metadata": {
    "colab": {
     "base_uri": "https://localhost:8080/"
    },
    "executionInfo": {
     "elapsed": 4,
     "status": "ok",
     "timestamp": 1708306049909,
     "user": {
      "displayName": "이태관",
      "userId": "08279273165912215614"
     },
     "user_tz": -540
    },
    "id": "1VnSbXxv79vX",
    "outputId": "eb5d4879-2bd7-4b44-d1d2-e5b04e5be504",
    "scrolled": true
   },
   "outputs": [],
   "source": [
    "x1.shape, x2.shape, y_pred.shape"
   ]
  },
  {
   "cell_type": "code",
   "execution_count": null,
   "metadata": {
    "colab": {
     "base_uri": "https://localhost:8080/",
     "height": 715
    },
    "executionInfo": {
     "elapsed": 490,
     "status": "ok",
     "timestamp": 1708306050396,
     "user": {
      "displayName": "이태관",
      "userId": "08279273165912215614"
     },
     "user_tz": -540
    },
    "id": "KYp8txpuxO8q",
    "outputId": "c7cd981b-028b-42c2-a3c8-c102755d257b",
    "scrolled": false
   },
   "outputs": [],
   "source": [
    "plt.figure(figsize=(16, 8))\n",
    "sns.scatterplot(data=df, x='petal length (cm)', y=\"petal width (cm)\", hue= \"label\")"
   ]
  },
  {
   "cell_type": "code",
   "execution_count": null,
   "metadata": {
    "colab": {
     "base_uri": "https://localhost:8080/",
     "height": 720
    },
    "executionInfo": {
     "elapsed": 637,
     "status": "ok",
     "timestamp": 1708306051462,
     "user": {
      "displayName": "이태관",
      "userId": "08279273165912215614"
     },
     "user_tz": -540
    },
    "id": "yp0hifrExUN-",
    "outputId": "58c0b66f-56de-4aad-ebc6-3a31f8432f54"
   },
   "outputs": [],
   "source": [
    "plt.figure(figsize=(16, 8))\n",
    "sns.scatterplot(data=df, x='petal length (cm)', y=\"petal width (cm)\", hue= \"label\")\n",
    "plt.contourf(x1, x2, y_pred, alpha=0.3)"
   ]
  },
  {
   "cell_type": "code",
   "execution_count": null,
   "metadata": {
    "colab": {
     "base_uri": "https://localhost:8080/",
     "height": 720
    },
    "executionInfo": {
     "elapsed": 651,
     "status": "ok",
     "timestamp": 1708306052110,
     "user": {
      "displayName": "이태관",
      "userId": "08279273165912215614"
     },
     "user_tz": -540
    },
    "id": "TEh-weRQxmBB",
    "outputId": "1c6b92d9-43c0-426c-8679-4eee7e6f63d6"
   },
   "outputs": [],
   "source": [
    "plt.figure(figsize=(16, 8))\n",
    "sns.scatterplot(data=df, x='petal length (cm)', y=\"petal width (cm)\", hue= \"label\")\n",
    "plt.contourf(x1, x2, y_pred, alpha=0.3)\n",
    "\n",
    "plt.plot([2.45, 2.45], [0, 3], \"k-\", linewidth=2)\n",
    "plt.plot([2.45, 7.5], [1.75, 1.75], \"k--\", linewidth=2)\n",
    "plt.text(1.4, 1.0, \"Depth=0\", fontsize=13)\n",
    "plt.text(3.2, 1.80, \"Depth=1\", fontsize=13)\n",
    "\n",
    "# patal length = 2.45\n",
    "#patal width = 1.75"
   ]
  },
  {
   "cell_type": "markdown",
   "metadata": {
    "id": "VsdNDKtjVP5G"
   },
   "source": [
    "# is it only one DT?"
   ]
  },
  {
   "cell_type": "code",
   "execution_count": null,
   "metadata": {
    "colab": {
     "base_uri": "https://localhost:8080/",
     "height": 74
    },
    "executionInfo": {
     "elapsed": 457,
     "status": "ok",
     "timestamp": 1708306065820,
     "user": {
      "displayName": "이태관",
      "userId": "08279273165912215614"
     },
     "user_tz": -540
    },
    "id": "EcsfUcmPC39L",
    "outputId": "fa464210-ed77-404e-87ec-d28b3d1dece4"
   },
   "outputs": [],
   "source": [
    "model2 = DecisionTreeClassifier(max_depth=2, random_state=40)\n",
    "model2.fit(X, y)"
   ]
  },
  {
   "cell_type": "code",
   "execution_count": null,
   "metadata": {
    "colab": {
     "base_uri": "https://localhost:8080/",
     "height": 438
    },
    "executionInfo": {
     "elapsed": 313,
     "status": "ok",
     "timestamp": 1708306068431,
     "user": {
      "displayName": "이태관",
      "userId": "08279273165912215614"
     },
     "user_tz": -540
    },
    "id": "R-dr9JDeifsc",
    "outputId": "a1d5fbd5-40b4-4040-93bc-e613956d870a"
   },
   "outputs": [],
   "source": [
    "export_graphviz(\n",
    "        model2,\n",
    "        out_file=os.path.join(IMAGES_PATH, \"iris_model2_decision_tree.dot\"),\n",
    "        feature_names=iris.feature_names[2:],\n",
    "        class_names=iris.target_names,\n",
    "        rounded=True,\n",
    "        filled=True\n",
    "    )\n",
    "Source.from_file(os.path.join(IMAGES_PATH, \"iris_model2_decision_tree.dot\"))"
   ]
  },
  {
   "cell_type": "code",
   "execution_count": null,
   "metadata": {
    "colab": {
     "base_uri": "https://localhost:8080/",
     "height": 449
    },
    "executionInfo": {
     "elapsed": 615,
     "status": "ok",
     "timestamp": 1708306070251,
     "user": {
      "displayName": "이태관",
      "userId": "08279273165912215614"
     },
     "user_tz": -540
    },
    "id": "QK1TD5XACkys",
    "outputId": "3baa0df4-84ba-4ecf-8fcc-2509f881a824"
   },
   "outputs": [],
   "source": [
    "plt.figure(figsize=(16, 8))\n",
    "axes=[0, 7.5, 0, 3]\n",
    "x1s = np.linspace(axes[0], axes[1], 100)\n",
    "x2s = np.linspace(axes[2], axes[3], 100)\n",
    "\n",
    "x1, x2 = np.meshgrid(x1s, x2s)\n",
    "X_new = np.c_[x1.ravel(), x2.ravel()]\n",
    "\n",
    "y_pred = model2.predict(X_new).reshape(x1.shape)\n",
    "\n",
    "sns.scatterplot(data=df, x='petal length (cm)', y=\"petal width (cm)\", hue= \"label\")\n",
    "plt.contourf(x1, x2, y_pred, alpha=0.3)\n",
    "\n",
    "plt.plot([0, 7.5], [0.8, 0.8], \"k-\", linewidth=2)\n",
    "plt.plot([0, 7.5], [1.75, 1.75], \"k--\", linewidth=2)\n",
    "plt.text(1.0, 0.9, \"Depth=0\", fontsize=15)\n",
    "plt.text(1.0, 1.80, \"Depth=1\", fontsize=15)"
   ]
  },
  {
   "cell_type": "code",
   "execution_count": null,
   "metadata": {
    "colab": {
     "base_uri": "https://localhost:8080/",
     "height": 74
    },
    "executionInfo": {
     "elapsed": 7,
     "status": "ok",
     "timestamp": 1708306070251,
     "user": {
      "displayName": "이태관",
      "userId": "08279273165912215614"
     },
     "user_tz": -540
    },
    "id": "iqRAbK7ztxaJ",
    "outputId": "5938c2fe-405f-4a24-f597-77a8bf314dc0"
   },
   "outputs": [],
   "source": [
    "model_overfit = DecisionTreeClassifier(max_depth=10, random_state=40)\n",
    "model_overfit.fit(X, y)"
   ]
  },
  {
   "cell_type": "code",
   "execution_count": null,
   "metadata": {
    "colab": {
     "base_uri": "https://localhost:8080/",
     "height": 914
    },
    "executionInfo": {
     "elapsed": 7,
     "status": "ok",
     "timestamp": 1708306070858,
     "user": {
      "displayName": "이태관",
      "userId": "08279273165912215614"
     },
     "user_tz": -540
    },
    "id": "5q69La7OtxaJ",
    "outputId": "4ee6f779-9e24-42cc-d69c-c29fe99c7694"
   },
   "outputs": [],
   "source": [
    "export_graphviz(\n",
    "        model_overfit,\n",
    "        out_file=os.path.join(IMAGES_PATH, \"iris_tree.dot\"),\n",
    "        feature_names=iris.feature_names[2:],\n",
    "        class_names=iris.target_names,\n",
    "        rounded=True,\n",
    "        filled=True\n",
    "    )\n",
    "Source.from_file(os.path.join(IMAGES_PATH, \"iris_tree.dot\"))"
   ]
  },
  {
   "cell_type": "code",
   "execution_count": null,
   "metadata": {
    "colab": {
     "base_uri": "https://localhost:8080/",
     "height": 449
    },
    "executionInfo": {
     "elapsed": 1060,
     "status": "ok",
     "timestamp": 1708306073717,
     "user": {
      "displayName": "이태관",
      "userId": "08279273165912215614"
     },
     "user_tz": -540
    },
    "id": "KpN1DQwEtxaJ",
    "outputId": "bb76f788-ca0a-4416-8724-90da8c82a392"
   },
   "outputs": [],
   "source": [
    "plt.figure(figsize=(16, 8))\n",
    "axes=[0, 7.5, 0, 3]\n",
    "x1s = np.linspace(axes[0], axes[1], 100)\n",
    "x2s = np.linspace(axes[2], axes[3], 100)\n",
    "\n",
    "x1, x2 = np.meshgrid(x1s, x2s)\n",
    "X_new = np.c_[x1.ravel(), x2.ravel()]\n",
    "\n",
    "y_pred = model_overfit.predict(X_new).reshape(x1.shape)\n",
    "\n",
    "sns.scatterplot(data=df, x='petal length (cm)', y=\"petal width (cm)\", hue= \"label\")\n",
    "plt.contourf(x1, x2, y_pred, alpha=0.3)"
   ]
  },
  {
   "cell_type": "markdown",
   "metadata": {
    "id": "FPWb7pS_ih4q"
   },
   "source": [
    "# split dataset(train and test)"
   ]
  },
  {
   "cell_type": "code",
   "execution_count": null,
   "metadata": {
    "executionInfo": {
     "elapsed": 470,
     "status": "ok",
     "timestamp": 1708306093004,
     "user": {
      "displayName": "이태관",
      "userId": "08279273165912215614"
     },
     "user_tz": -540
    },
    "id": "v3-TdhwTI49L"
   },
   "outputs": [],
   "source": [
    "from sklearn.model_selection import train_test_split\n",
    "from sklearn.metrics import accuracy_score"
   ]
  },
  {
   "cell_type": "code",
   "execution_count": null,
   "metadata": {},
   "outputs": [],
   "source": [
    "from sklearn.datasets import load_iris\n",
    "iris = load_iris(as_frame=True)\n",
    "\n",
    "X = df[['sepal length (cm)', 'sepal width (cm)', 'petal length (cm)', 'petal width (cm)']]\n",
    "y = df['label']"
   ]
  },
  {
   "cell_type": "code",
   "execution_count": null,
   "metadata": {
    "executionInfo": {
     "elapsed": 3,
     "status": "ok",
     "timestamp": 1708306093005,
     "user": {
      "displayName": "이태관",
      "userId": "08279273165912215614"
     },
     "user_tz": -540
    },
    "id": "KjDGbhn6Ot36"
   },
   "outputs": [],
   "source": [
    "X_train, X_test, y_train, y_test = train_test_split(X, y, test_size= 0.2, random_state = 11)"
   ]
  },
  {
   "cell_type": "code",
   "execution_count": null,
   "metadata": {
    "executionInfo": {
     "elapsed": 3,
     "status": "ok",
     "timestamp": 1708306093408,
     "user": {
      "displayName": "이태관",
      "userId": "08279273165912215614"
     },
     "user_tz": -540
    },
    "id": "zUXcoAhjPCZX"
   },
   "outputs": [],
   "source": [
    "model = DecisionTreeClassifier(max_depth= 2,random_state=42)\n",
    "model.fit(X_train,y_train)"
   ]
  },
  {
   "cell_type": "code",
   "execution_count": null,
   "metadata": {
    "colab": {
     "base_uri": "https://localhost:8080/"
    },
    "executionInfo": {
     "elapsed": 3,
     "status": "ok",
     "timestamp": 1708306093767,
     "user": {
      "displayName": "이태관",
      "userId": "08279273165912215614"
     },
     "user_tz": -540
    },
    "id": "LfMcriC0txaK",
    "outputId": "5180c616-685a-48c3-c870-289bf1d7ad5c"
   },
   "outputs": [],
   "source": [
    "pred_train = model.predict(X_train)\n",
    "accuracy_score(pred_train, y_train)"
   ]
  },
  {
   "cell_type": "code",
   "execution_count": null,
   "metadata": {
    "executionInfo": {
     "elapsed": 2,
     "status": "ok",
     "timestamp": 1708306094126,
     "user": {
      "displayName": "이태관",
      "userId": "08279273165912215614"
     },
     "user_tz": -540
    },
    "id": "TgKa3AB_PQe3"
   },
   "outputs": [],
   "source": [
    "pred_test = model.predict(X_test)\n",
    "print(f\"정확도: {accuracy_score(pred_test, y_test)}\")"
   ]
  },
  {
   "cell_type": "code",
   "execution_count": null,
   "metadata": {
    "colab": {
     "base_uri": "https://localhost:8080/",
     "height": 914
    },
    "executionInfo": {
     "elapsed": 6,
     "status": "ok",
     "timestamp": 1708306095413,
     "user": {
      "displayName": "이태관",
      "userId": "08279273165912215614"
     },
     "user_tz": -540
    },
    "id": "cfkTQA0MphZw",
    "outputId": "e4f82644-1a74-46d7-93c8-f1b27facc66b"
   },
   "outputs": [],
   "source": [
    "export_graphviz(\n",
    "        model,\n",
    "        out_file=os.path.join(IMAGES_PATH, \"iris_tree.dot\"),\n",
    "        feature_names=iris.feature_names,\n",
    "        class_names=iris.target_names,\n",
    "        rounded=True,\n",
    "        filled=True\n",
    "    )\n",
    "Source.from_file(os.path.join(IMAGES_PATH, \"iris_tree.dot\"))"
   ]
  },
  {
   "cell_type": "code",
   "execution_count": null,
   "metadata": {
    "colab": {
     "base_uri": "https://localhost:8080/"
    },
    "executionInfo": {
     "elapsed": 4,
     "status": "ok",
     "timestamp": 1708306096177,
     "user": {
      "displayName": "이태관",
      "userId": "08279273165912215614"
     },
     "user_tz": -540
    },
    "id": "TGVtZhSHtxaL",
    "outputId": "2ef2109c-0fec-4805-cfe3-2bdff38a8130"
   },
   "outputs": [],
   "source": [
    "model.feature_importances_"
   ]
  },
  {
   "cell_type": "code",
   "execution_count": null,
   "metadata": {
    "colab": {
     "base_uri": "https://localhost:8080/"
    },
    "executionInfo": {
     "elapsed": 3,
     "status": "ok",
     "timestamp": 1708306097299,
     "user": {
      "displayName": "이태관",
      "userId": "08279273165912215614"
     },
     "user_tz": -540
    },
    "id": "_BrjhxswtxaL",
    "outputId": "4df4e4bc-8b0f-49b9-db9a-3560dc36ae79"
   },
   "outputs": [],
   "source": [
    "iris.feature_names"
   ]
  },
  {
   "cell_type": "code",
   "execution_count": null,
   "metadata": {
    "colab": {
     "base_uri": "https://localhost:8080/",
     "height": 631
    },
    "executionInfo": {
     "elapsed": 648,
     "status": "ok",
     "timestamp": 1708306098584,
     "user": {
      "displayName": "이태관",
      "userId": "08279273165912215614"
     },
     "user_tz": -540
    },
    "id": "_pzdMB7Goqrk",
    "outputId": "f57823fb-15d9-4792-9757-cc15292caef2"
   },
   "outputs": [],
   "source": [
    "sns.barplot(x = iris.feature_names, y = model.feature_importances_)\n",
    "plt.xticks(rotation = 90)"
   ]
  }
 ],
 "metadata": {
  "colab": {
   "collapsed_sections": [
    "uWFb6FpOiy37",
    "Tr4Qoi2PmL7N",
    "ms2o0Wa_mUAs",
    "JSjAARX3txaN",
    "PNZtBk7ZtxaN",
    "vywPhovLtxaN",
    "T3Xd_e8-txaO"
   ],
   "provenance": []
  },
  "kernelspec": {
   "display_name": "Python 3 (ipykernel)",
   "language": "python",
   "name": "python3"
  },
  "language_info": {
   "codemirror_mode": {
    "name": "ipython",
    "version": 3
   },
   "file_extension": ".py",
   "mimetype": "text/x-python",
   "name": "python",
   "nbconvert_exporter": "python",
   "pygments_lexer": "ipython3",
   "version": "3.9.7"
  }
 },
 "nbformat": 4,
 "nbformat_minor": 1
}
